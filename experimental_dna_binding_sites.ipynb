{
 "cells": [
  {
   "source": [
    "# Extracting experimental DNA-binding sequences from UniProt data\n",
    "\n",
    "This notebook demonstrates how to use python and pandas to extract experimental DNA-binding sequences.\n",
    "\n",
    "Emma Hatton-Ellis, Jun 2017."
   ],
   "cell_type": "markdown",
   "metadata": {}
  },
  {
   "cell_type": "code",
   "execution_count": 1,
   "metadata": {
    "slideshow": {
     "slide_type": "slide"
    }
   },
   "outputs": [],
   "source": [
    "import pandas as pd"
   ]
  },
  {
   "source": [
    "Search UniProt for entries with experimental DNA-binding site annotations, and retrieve in tab format. The fields retrieved are accession, entry name, gene name, DNA-binding feature data, and the canonical protein sequence."
   ],
   "cell_type": "markdown",
   "metadata": {}
  },
  {
   "cell_type": "code",
   "execution_count": 2,
   "metadata": {},
   "outputs": [],
   "source": [
    "url = 'https://www.uniprot.org/uniprot/?query=annotation:(type:dna_bind+evidence:experimental)&format=tab&columns=id,entry_name,genes(PREFERRED),feature(DNA+BINDING),sequence'"
   ]
  },
  {
   "cell_type": "code",
   "execution_count": 3,
   "metadata": {
    "slideshow": {
     "slide_type": "slide"
    }
   },
   "outputs": [],
   "source": [
    "df = pd.read_csv(url, sep='\\t')"
   ]
  },
  {
   "cell_type": "code",
   "execution_count": 4,
   "metadata": {
    "slideshow": {
     "slide_type": "subslide"
    }
   },
   "outputs": [
    {
     "output_type": "execute_result",
     "data": {
      "text/plain": [
       "    Entry   Entry name Gene names  (primary )  \\\n",
       "0  A4JS72   BV3F_BURVG                    NaN   \n",
       "1  U2UMQ6  CS12A_ACISB                 cas12a   \n",
       "2  Q6NT76  HMBX1_HUMAN                 HMBOX1   \n",
       "3  Q00958    LFY_ARATH                    LFY   \n",
       "4  P52952  NKX25_HUMAN                 NKX2-5   \n",
       "\n",
       "                                         DNA binding  \\\n",
       "0  DNA_BIND 89..95;  /evidence=\"ECO:0000269|PubMe...   \n",
       "1  DNA_BIND 599..607;  /note=\"PAM-binding on targ...   \n",
       "2  DNA_BIND 267..341;  /note=\"Homeobox\";  /eviden...   \n",
       "3  DNA_BIND 233..237;  /evidence=\"ECO:0000244|PDB...   \n",
       "4  DNA_BIND 138..197;  /note=\"Homeobox\";  /eviden...   \n",
       "\n",
       "                                            Sequence  \n",
       "0  MPVQGRENMDPKSPGYLALIAQRESLDAQIIAARKAEREVAIGQIK...  \n",
       "1  MTQFEGFTNLYQVSKTLRFELIPQGKTLKHIQEQGFIEEDKARNDH...  \n",
       "2  MLSSFPVVLLETMSHYTDEPRFTIEQIDLLQRLRRTGMTKHEILHA...  \n",
       "3  MDPEGFTSGLFRWNPTRALVQAPPPVPPPLQQQPVTPQTAAFGMRL...  \n",
       "4  MFPSPALTPTPFSVKDILNLEQQQRSLAAAGELSARLEATLAPSSC...  "
      ],
      "text/html": "<div>\n<style scoped>\n    .dataframe tbody tr th:only-of-type {\n        vertical-align: middle;\n    }\n\n    .dataframe tbody tr th {\n        vertical-align: top;\n    }\n\n    .dataframe thead th {\n        text-align: right;\n    }\n</style>\n<table border=\"1\" class=\"dataframe\">\n  <thead>\n    <tr style=\"text-align: right;\">\n      <th></th>\n      <th>Entry</th>\n      <th>Entry name</th>\n      <th>Gene names  (primary )</th>\n      <th>DNA binding</th>\n      <th>Sequence</th>\n    </tr>\n  </thead>\n  <tbody>\n    <tr>\n      <th>0</th>\n      <td>A4JS72</td>\n      <td>BV3F_BURVG</td>\n      <td>NaN</td>\n      <td>DNA_BIND 89..95;  /evidence=\"ECO:0000269|PubMe...</td>\n      <td>MPVQGRENMDPKSPGYLALIAQRESLDAQIIAARKAEREVAIGQIK...</td>\n    </tr>\n    <tr>\n      <th>1</th>\n      <td>U2UMQ6</td>\n      <td>CS12A_ACISB</td>\n      <td>cas12a</td>\n      <td>DNA_BIND 599..607;  /note=\"PAM-binding on targ...</td>\n      <td>MTQFEGFTNLYQVSKTLRFELIPQGKTLKHIQEQGFIEEDKARNDH...</td>\n    </tr>\n    <tr>\n      <th>2</th>\n      <td>Q6NT76</td>\n      <td>HMBX1_HUMAN</td>\n      <td>HMBOX1</td>\n      <td>DNA_BIND 267..341;  /note=\"Homeobox\";  /eviden...</td>\n      <td>MLSSFPVVLLETMSHYTDEPRFTIEQIDLLQRLRRTGMTKHEILHA...</td>\n    </tr>\n    <tr>\n      <th>3</th>\n      <td>Q00958</td>\n      <td>LFY_ARATH</td>\n      <td>LFY</td>\n      <td>DNA_BIND 233..237;  /evidence=\"ECO:0000244|PDB...</td>\n      <td>MDPEGFTSGLFRWNPTRALVQAPPPVPPPLQQQPVTPQTAAFGMRL...</td>\n    </tr>\n    <tr>\n      <th>4</th>\n      <td>P52952</td>\n      <td>NKX25_HUMAN</td>\n      <td>NKX2-5</td>\n      <td>DNA_BIND 138..197;  /note=\"Homeobox\";  /eviden...</td>\n      <td>MFPSPALTPTPFSVKDILNLEQQQRSLAAAGELSARLEATLAPSSC...</td>\n    </tr>\n  </tbody>\n</table>\n</div>"
     },
     "metadata": {},
     "execution_count": 4
    }
   ],
   "source": [
    "df.head()"
   ]
  },
  {
   "source": [
    "Extract the amino acid positions from the DNA binding column. The regex uses named capture groups (\"from\" and \"to\") which are automatically set as column names by pandas."
   ],
   "cell_type": "markdown",
   "metadata": {}
  },
  {
   "cell_type": "code",
   "execution_count": 5,
   "metadata": {
    "slideshow": {
     "slide_type": "slide"
    }
   },
   "outputs": [],
   "source": [
    "positions = df['DNA binding'].str.extract(r'DNA_BIND\\s(?P<from>\\d+)\\.\\.(?P<to>\\d+);', expand=True)"
   ]
  },
  {
   "source": [
    "Check that the positions look ok."
   ],
   "cell_type": "markdown",
   "metadata": {}
  },
  {
   "cell_type": "code",
   "execution_count": 6,
   "metadata": {
    "slideshow": {
     "slide_type": "subslide"
    }
   },
   "outputs": [
    {
     "output_type": "execute_result",
     "data": {
      "text/plain": [
       "   from   to\n",
       "21   79  147\n",
       "22  285  300\n",
       "23  246  259\n",
       "24    1   35\n",
       "25   58  238"
      ],
      "text/html": "<div>\n<style scoped>\n    .dataframe tbody tr th:only-of-type {\n        vertical-align: middle;\n    }\n\n    .dataframe tbody tr th {\n        vertical-align: top;\n    }\n\n    .dataframe thead th {\n        text-align: right;\n    }\n</style>\n<table border=\"1\" class=\"dataframe\">\n  <thead>\n    <tr style=\"text-align: right;\">\n      <th></th>\n      <th>from</th>\n      <th>to</th>\n    </tr>\n  </thead>\n  <tbody>\n    <tr>\n      <th>21</th>\n      <td>79</td>\n      <td>147</td>\n    </tr>\n    <tr>\n      <th>22</th>\n      <td>285</td>\n      <td>300</td>\n    </tr>\n    <tr>\n      <th>23</th>\n      <td>246</td>\n      <td>259</td>\n    </tr>\n    <tr>\n      <th>24</th>\n      <td>1</td>\n      <td>35</td>\n    </tr>\n    <tr>\n      <th>25</th>\n      <td>58</td>\n      <td>238</td>\n    </tr>\n  </tbody>\n</table>\n</div>"
     },
     "metadata": {},
     "execution_count": 6
    }
   ],
   "source": [
    "positions.tail()"
   ]
  },
  {
   "source": [
    "Convert the amino acid positions from string to numeric data type."
   ],
   "cell_type": "markdown",
   "metadata": {}
  },
  {
   "cell_type": "code",
   "execution_count": 7,
   "metadata": {
    "slideshow": {
     "slide_type": "slide"
    }
   },
   "outputs": [
    {
     "output_type": "execute_result",
     "data": {
      "text/plain": [
       "    Entry   Entry name Gene names  (primary )  \\\n",
       "0  A4JS72   BV3F_BURVG                    NaN   \n",
       "1  U2UMQ6  CS12A_ACISB                 cas12a   \n",
       "2  Q6NT76  HMBX1_HUMAN                 HMBOX1   \n",
       "3  Q00958    LFY_ARATH                    LFY   \n",
       "4  P52952  NKX25_HUMAN                 NKX2-5   \n",
       "\n",
       "                                         DNA binding  \\\n",
       "0  DNA_BIND 89..95;  /evidence=\"ECO:0000269|PubMe...   \n",
       "1  DNA_BIND 599..607;  /note=\"PAM-binding on targ...   \n",
       "2  DNA_BIND 267..341;  /note=\"Homeobox\";  /eviden...   \n",
       "3  DNA_BIND 233..237;  /evidence=\"ECO:0000244|PDB...   \n",
       "4  DNA_BIND 138..197;  /note=\"Homeobox\";  /eviden...   \n",
       "\n",
       "                                            Sequence  from   to  \n",
       "0  MPVQGRENMDPKSPGYLALIAQRESLDAQIIAARKAEREVAIGQIK...    89   95  \n",
       "1  MTQFEGFTNLYQVSKTLRFELIPQGKTLKHIQEQGFIEEDKARNDH...   599  607  \n",
       "2  MLSSFPVVLLETMSHYTDEPRFTIEQIDLLQRLRRTGMTKHEILHA...   267  341  \n",
       "3  MDPEGFTSGLFRWNPTRALVQAPPPVPPPLQQQPVTPQTAAFGMRL...   233  237  \n",
       "4  MFPSPALTPTPFSVKDILNLEQQQRSLAAAGELSARLEATLAPSSC...   138  197  "
      ],
      "text/html": "<div>\n<style scoped>\n    .dataframe tbody tr th:only-of-type {\n        vertical-align: middle;\n    }\n\n    .dataframe tbody tr th {\n        vertical-align: top;\n    }\n\n    .dataframe thead th {\n        text-align: right;\n    }\n</style>\n<table border=\"1\" class=\"dataframe\">\n  <thead>\n    <tr style=\"text-align: right;\">\n      <th></th>\n      <th>Entry</th>\n      <th>Entry name</th>\n      <th>Gene names  (primary )</th>\n      <th>DNA binding</th>\n      <th>Sequence</th>\n      <th>from</th>\n      <th>to</th>\n    </tr>\n  </thead>\n  <tbody>\n    <tr>\n      <th>0</th>\n      <td>A4JS72</td>\n      <td>BV3F_BURVG</td>\n      <td>NaN</td>\n      <td>DNA_BIND 89..95;  /evidence=\"ECO:0000269|PubMe...</td>\n      <td>MPVQGRENMDPKSPGYLALIAQRESLDAQIIAARKAEREVAIGQIK...</td>\n      <td>89</td>\n      <td>95</td>\n    </tr>\n    <tr>\n      <th>1</th>\n      <td>U2UMQ6</td>\n      <td>CS12A_ACISB</td>\n      <td>cas12a</td>\n      <td>DNA_BIND 599..607;  /note=\"PAM-binding on targ...</td>\n      <td>MTQFEGFTNLYQVSKTLRFELIPQGKTLKHIQEQGFIEEDKARNDH...</td>\n      <td>599</td>\n      <td>607</td>\n    </tr>\n    <tr>\n      <th>2</th>\n      <td>Q6NT76</td>\n      <td>HMBX1_HUMAN</td>\n      <td>HMBOX1</td>\n      <td>DNA_BIND 267..341;  /note=\"Homeobox\";  /eviden...</td>\n      <td>MLSSFPVVLLETMSHYTDEPRFTIEQIDLLQRLRRTGMTKHEILHA...</td>\n      <td>267</td>\n      <td>341</td>\n    </tr>\n    <tr>\n      <th>3</th>\n      <td>Q00958</td>\n      <td>LFY_ARATH</td>\n      <td>LFY</td>\n      <td>DNA_BIND 233..237;  /evidence=\"ECO:0000244|PDB...</td>\n      <td>MDPEGFTSGLFRWNPTRALVQAPPPVPPPLQQQPVTPQTAAFGMRL...</td>\n      <td>233</td>\n      <td>237</td>\n    </tr>\n    <tr>\n      <th>4</th>\n      <td>P52952</td>\n      <td>NKX25_HUMAN</td>\n      <td>NKX2-5</td>\n      <td>DNA_BIND 138..197;  /note=\"Homeobox\";  /eviden...</td>\n      <td>MFPSPALTPTPFSVKDILNLEQQQRSLAAAGELSARLEATLAPSSC...</td>\n      <td>138</td>\n      <td>197</td>\n    </tr>\n  </tbody>\n</table>\n</div>"
     },
     "metadata": {},
     "execution_count": 7
    }
   ],
   "source": [
    "df['from'] = pd.to_numeric(positions['from'])\n",
    "df['to'] = pd.to_numeric(positions['to'])\n",
    "df.head()"
   ]
  },
  {
   "source": [
    "Slice the sequence string using the amino acid positions, and apply this as a new column."
   ],
   "cell_type": "markdown",
   "metadata": {}
  },
  {
   "cell_type": "code",
   "execution_count": 8,
   "metadata": {
    "slideshow": {
     "slide_type": "slide"
    }
   },
   "outputs": [],
   "source": [
    "df['extracted_dna_binding'] = df.apply(lambda x: x['Sequence'][x['from']:x['to']], 1)"
   ]
  },
  {
   "cell_type": "code",
   "execution_count": 9,
   "metadata": {
    "slideshow": {
     "slide_type": "subslide"
    }
   },
   "outputs": [
    {
     "output_type": "execute_result",
     "data": {
      "text/plain": [
       "     Entry   Entry name                              extracted_dna_binding\n",
       "0   A4JS72   BV3F_BURVG                                             GRQPAW\n",
       "1   U2UMQ6  CS12A_ACISB                                           DAAKMIPK\n",
       "2   Q6NT76  HMBX1_HUMAN  RGSRFTWRKECLAVMESYFNENQYPDEAKREEIANACNAVIQKPGK...\n",
       "3   Q00958    LFY_ARATH                                               EHPF\n",
       "4   P52952  NKX25_HUMAN  RKPRVLFSQAQVYELERRFKQQRYLSAPERDQLASVLKLTSTQVKI...\n",
       "5   P51023    PNT_DROME  QLWQFLLELLLDKTCQSFISWTGDGWEFKLTDPDEVARRWGIRKNK...\n",
       "6   P23874   HIPA_ECOLI                                                VLR\n",
       "7   P0A1S2    HNS_SALTY                                              GRTPA\n",
       "8   P03685     NP_BPPH2                                 AKMMQREITKTTVNVAKM\n",
       "9   P23873   HIPB_ECOLI                         QQNGWTQSELAKKIGIKQATISNFEN\n",
       "10  Q8EIX3   HIPA_SHEON                                               IARR\n",
       "11  Q8EIX4   HIPB_SHEON                                DVAAMLCGVTKKTLIRVEK\n",
       "12  Q9UBX2   DUX4_HUMAN  RRRRLVWTPSQSEALRACFERNPYPGIATRERLAQAIGIPEPRVQI...\n",
       "13  P10961    HSF_YEAST  PAFVNKLWSMLNDDSNTKLIQWAEDGKSFIVTNREEFVHQILPKYF...\n",
       "14  P0A8V6   FADR_ECOLI                RELSELIGVTRTTLREVLQRLARDGWLTIQHGKPT\n",
       "15  Q5U249   ELYS_XENLA                                       KPRGRPPKHKAK\n",
       "16  Q6QHD1  WRK71_ORYSJ  LSLVVKDGYQWRKYGQKVTKDNPCPRAYFRCSFAPACPVKKKVQRS...\n",
       "17  Q14966  ZN638_HUMAN  AENTLFKAYPNKGVGQANKPDETSKTSILAVSDVSSSKPSIKAVIV...\n",
       "18  P04893   TERS_BPP22                                          DKRRSRIKE\n",
       "19  P68928   TERS_BPSF6  KEPKLSPKQERFIEEYFINDMNATKAAIAAGYSKNSASAIGAENLQ...\n",
       "20  P20263  PO5F1_MOUSE  KRKRTSIENRVRWSLETMFLKCPKPSLQQITHIANQLGLEKDVVRV...\n",
       "21  P43680  SOX18_MOUSE  RRPMNAFMVWAKDERKRLAQQNPDLHNAVLSKMLGKAWKELNTAEK...\n",
       "22  P05554    CEBPA_RAT                                    RVRRERNNIAVRKSR\n",
       "23  Q04013   YHM2_YEAST                                      EDPNRPKNLTVGK\n",
       "24  P17311    TERS_BPT4                 EGLDINKLLDISDLPGIDGEEIKVYEPLQLVEVK\n",
       "25  Q99593   TBX5_HUMAN  HERELWLKFHEVGTEMIITKAGRRMFPSYKVKVTGLNPKTKYILLM..."
      ],
      "text/html": "<div>\n<style scoped>\n    .dataframe tbody tr th:only-of-type {\n        vertical-align: middle;\n    }\n\n    .dataframe tbody tr th {\n        vertical-align: top;\n    }\n\n    .dataframe thead th {\n        text-align: right;\n    }\n</style>\n<table border=\"1\" class=\"dataframe\">\n  <thead>\n    <tr style=\"text-align: right;\">\n      <th></th>\n      <th>Entry</th>\n      <th>Entry name</th>\n      <th>extracted_dna_binding</th>\n    </tr>\n  </thead>\n  <tbody>\n    <tr>\n      <th>0</th>\n      <td>A4JS72</td>\n      <td>BV3F_BURVG</td>\n      <td>GRQPAW</td>\n    </tr>\n    <tr>\n      <th>1</th>\n      <td>U2UMQ6</td>\n      <td>CS12A_ACISB</td>\n      <td>DAAKMIPK</td>\n    </tr>\n    <tr>\n      <th>2</th>\n      <td>Q6NT76</td>\n      <td>HMBX1_HUMAN</td>\n      <td>RGSRFTWRKECLAVMESYFNENQYPDEAKREEIANACNAVIQKPGK...</td>\n    </tr>\n    <tr>\n      <th>3</th>\n      <td>Q00958</td>\n      <td>LFY_ARATH</td>\n      <td>EHPF</td>\n    </tr>\n    <tr>\n      <th>4</th>\n      <td>P52952</td>\n      <td>NKX25_HUMAN</td>\n      <td>RKPRVLFSQAQVYELERRFKQQRYLSAPERDQLASVLKLTSTQVKI...</td>\n    </tr>\n    <tr>\n      <th>5</th>\n      <td>P51023</td>\n      <td>PNT_DROME</td>\n      <td>QLWQFLLELLLDKTCQSFISWTGDGWEFKLTDPDEVARRWGIRKNK...</td>\n    </tr>\n    <tr>\n      <th>6</th>\n      <td>P23874</td>\n      <td>HIPA_ECOLI</td>\n      <td>VLR</td>\n    </tr>\n    <tr>\n      <th>7</th>\n      <td>P0A1S2</td>\n      <td>HNS_SALTY</td>\n      <td>GRTPA</td>\n    </tr>\n    <tr>\n      <th>8</th>\n      <td>P03685</td>\n      <td>NP_BPPH2</td>\n      <td>AKMMQREITKTTVNVAKM</td>\n    </tr>\n    <tr>\n      <th>9</th>\n      <td>P23873</td>\n      <td>HIPB_ECOLI</td>\n      <td>QQNGWTQSELAKKIGIKQATISNFEN</td>\n    </tr>\n    <tr>\n      <th>10</th>\n      <td>Q8EIX3</td>\n      <td>HIPA_SHEON</td>\n      <td>IARR</td>\n    </tr>\n    <tr>\n      <th>11</th>\n      <td>Q8EIX4</td>\n      <td>HIPB_SHEON</td>\n      <td>DVAAMLCGVTKKTLIRVEK</td>\n    </tr>\n    <tr>\n      <th>12</th>\n      <td>Q9UBX2</td>\n      <td>DUX4_HUMAN</td>\n      <td>RRRRLVWTPSQSEALRACFERNPYPGIATRERLAQAIGIPEPRVQI...</td>\n    </tr>\n    <tr>\n      <th>13</th>\n      <td>P10961</td>\n      <td>HSF_YEAST</td>\n      <td>PAFVNKLWSMLNDDSNTKLIQWAEDGKSFIVTNREEFVHQILPKYF...</td>\n    </tr>\n    <tr>\n      <th>14</th>\n      <td>P0A8V6</td>\n      <td>FADR_ECOLI</td>\n      <td>RELSELIGVTRTTLREVLQRLARDGWLTIQHGKPT</td>\n    </tr>\n    <tr>\n      <th>15</th>\n      <td>Q5U249</td>\n      <td>ELYS_XENLA</td>\n      <td>KPRGRPPKHKAK</td>\n    </tr>\n    <tr>\n      <th>16</th>\n      <td>Q6QHD1</td>\n      <td>WRK71_ORYSJ</td>\n      <td>LSLVVKDGYQWRKYGQKVTKDNPCPRAYFRCSFAPACPVKKKVQRS...</td>\n    </tr>\n    <tr>\n      <th>17</th>\n      <td>Q14966</td>\n      <td>ZN638_HUMAN</td>\n      <td>AENTLFKAYPNKGVGQANKPDETSKTSILAVSDVSSSKPSIKAVIV...</td>\n    </tr>\n    <tr>\n      <th>18</th>\n      <td>P04893</td>\n      <td>TERS_BPP22</td>\n      <td>DKRRSRIKE</td>\n    </tr>\n    <tr>\n      <th>19</th>\n      <td>P68928</td>\n      <td>TERS_BPSF6</td>\n      <td>KEPKLSPKQERFIEEYFINDMNATKAAIAAGYSKNSASAIGAENLQ...</td>\n    </tr>\n    <tr>\n      <th>20</th>\n      <td>P20263</td>\n      <td>PO5F1_MOUSE</td>\n      <td>KRKRTSIENRVRWSLETMFLKCPKPSLQQITHIANQLGLEKDVVRV...</td>\n    </tr>\n    <tr>\n      <th>21</th>\n      <td>P43680</td>\n      <td>SOX18_MOUSE</td>\n      <td>RRPMNAFMVWAKDERKRLAQQNPDLHNAVLSKMLGKAWKELNTAEK...</td>\n    </tr>\n    <tr>\n      <th>22</th>\n      <td>P05554</td>\n      <td>CEBPA_RAT</td>\n      <td>RVRRERNNIAVRKSR</td>\n    </tr>\n    <tr>\n      <th>23</th>\n      <td>Q04013</td>\n      <td>YHM2_YEAST</td>\n      <td>EDPNRPKNLTVGK</td>\n    </tr>\n    <tr>\n      <th>24</th>\n      <td>P17311</td>\n      <td>TERS_BPT4</td>\n      <td>EGLDINKLLDISDLPGIDGEEIKVYEPLQLVEVK</td>\n    </tr>\n    <tr>\n      <th>25</th>\n      <td>Q99593</td>\n      <td>TBX5_HUMAN</td>\n      <td>HERELWLKFHEVGTEMIITKAGRRMFPSYKVKVTGLNPKTKYILLM...</td>\n    </tr>\n  </tbody>\n</table>\n</div>"
     },
     "metadata": {},
     "execution_count": 9
    }
   ],
   "source": [
    "df[['Entry', 'Entry name', 'extracted_dna_binding']]"
   ]
  },
  {
   "cell_type": "code",
   "execution_count": null,
   "metadata": {},
   "outputs": [],
   "source": []
  }
 ],
 "metadata": {
  "kernelspec": {
   "name": "Python 3.6.10 64-bit ('base': conda)",
   "display_name": "Python 3.6.10 64-bit ('base': conda)",
   "metadata": {
    "interpreter": {
     "hash": "ad4e8bda2bb04b3bb74f2f81146c6cfebe771ddb02ae03e3f69f50bbe5dba866"
    }
   }
  },
  "language_info": {
   "codemirror_mode": {
    "name": "ipython",
    "version": 3
   },
   "file_extension": ".py",
   "mimetype": "text/x-python",
   "name": "python",
   "nbconvert_exporter": "python",
   "pygments_lexer": "ipython3",
   "version": "3.6.10-final"
  }
 },
 "nbformat": 4,
 "nbformat_minor": 2
}